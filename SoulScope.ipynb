{
  "nbformat": 4,
  "nbformat_minor": 0,
  "metadata": {
    "colab": {
      "provenance": []
    },
    "kernelspec": {
      "name": "python3",
      "display_name": "Python 3"
    },
    "language_info": {
      "name": "python"
    }
  },
  "cells": [
    {
      "cell_type": "code",
      "execution_count": null,
      "metadata": {
        "colab": {
          "base_uri": "https://localhost:8080/"
        },
        "id": "I7F_V5HIZyWc",
        "outputId": "d45d87d1-aced-46e1-b00b-5636547420b9"
      },
      "outputs": [
        {
          "output_type": "stream",
          "name": "stdout",
          "text": [
            "Collecting google-search-results\n",
            "  Downloading google_search_results-2.4.2.tar.gz (18 kB)\n",
            "  Preparing metadata (setup.py) ... \u001b[?25l\u001b[?25hdone\n",
            "Requirement already satisfied: requests in /usr/local/lib/python3.11/dist-packages (from google-search-results) (2.32.3)\n",
            "Requirement already satisfied: charset-normalizer<4,>=2 in /usr/local/lib/python3.11/dist-packages (from requests->google-search-results) (3.4.2)\n",
            "Requirement already satisfied: idna<4,>=2.5 in /usr/local/lib/python3.11/dist-packages (from requests->google-search-results) (3.10)\n",
            "Requirement already satisfied: urllib3<3,>=1.21.1 in /usr/local/lib/python3.11/dist-packages (from requests->google-search-results) (2.4.0)\n",
            "Requirement already satisfied: certifi>=2017.4.17 in /usr/local/lib/python3.11/dist-packages (from requests->google-search-results) (2025.7.9)\n",
            "Building wheels for collected packages: google-search-results\n",
            "  Building wheel for google-search-results (setup.py) ... \u001b[?25l\u001b[?25hdone\n",
            "  Created wheel for google-search-results: filename=google_search_results-2.4.2-py3-none-any.whl size=32010 sha256=b11cf7c3c1bb91d754e6a56b6ac8b724ceb9d061b1676defea1275f901d9bd4f\n",
            "  Stored in directory: /root/.cache/pip/wheels/6e/42/3e/aeb691b02cb7175ec70e2da04b5658d4739d2b41e5f73cd06f\n",
            "Successfully built google-search-results\n",
            "Installing collected packages: google-search-results\n",
            "Successfully installed google-search-results-2.4.2\n"
          ]
        }
      ],
      "source": [
        "!pip install --upgrade google-search-results\n"
      ]
    },
    {
      "cell_type": "code",
      "source": [
        "from serpapi import GoogleSearch\n"
      ],
      "metadata": {
        "id": "8xpU3Ic0Z5lG"
      },
      "execution_count": null,
      "outputs": []
    },
    {
      "cell_type": "markdown",
      "source": [
        "Test code\n"
      ],
      "metadata": {
        "id": "QqTdCEtpPTD2"
      }
    },
    {
      "cell_type": "code",
      "source": [
        "from serpapi import GoogleSearch\n",
        "\n",
        "print(\"✅ SerpAPI installed & imported correctly!\")\n",
        "\n",
        "SERPAPI_KEY = \"5d6ee01b24626f8a1960777e8c160a975be6b62d1016b199156e529dc2e9bdf7\"\n",
        "\n",
        "params = {\n",
        "    \"engine\": \"google\",\n",
        "    \"q\": \"daily horoscope for libra\",\n",
        "    \"api_key\": SERPAPI_KEY,\n",
        "    \"num\": 3\n",
        "}\n",
        "\n",
        "search = GoogleSearch(params)\n",
        "results = search.get_dict()\n",
        "\n",
        "if \"organic_results\" in results:\n",
        "    for r in results[\"organic_results\"]:\n",
        "        print(\"🔗\", r.get(\"title\"), \"-\", r.get(\"link\"))\n",
        "else:\n",
        "    print(\"⚠️ No results or invalid API key\")\n",
        "\n"
      ],
      "metadata": {
        "colab": {
          "base_uri": "https://localhost:8080/"
        },
        "id": "haALiqAFZ_4r",
        "outputId": "b4711353-7ea9-4a39-8371-778fabfed852"
      },
      "execution_count": null,
      "outputs": [
        {
          "output_type": "stream",
          "name": "stdout",
          "text": [
            "✅ SerpAPI installed & imported correctly!\n",
            "🔗 Libra Horoscopes: Daily & Today - https://www.horoscope.com/us/horoscopes/general/horoscope-general-daily-today.aspx?sign=7\n",
            "🔗 Libra Daily Horoscope Yahoo Life Astrology: July 14, 2025 - https://www.yahoo.com/lifestyle/horoscope/libra/daily-20250714/\n",
            "🔗 Libra Daily Horoscope Today: July 14, 2025 - https://www.elle.com/horoscopes/daily/a103/libra-daily-horoscope/\n"
          ]
        }
      ]
    },
    {
      "cell_type": "code",
      "source": [
        "\n",
        "!pip install streamlit flatlib transformers pyngrok\n",
        "\n",
        "app_code = '''\n",
        "import streamlit as st\n",
        "from flatlib.chart import Chart\n",
        "from flatlib.datetime import Datetime\n",
        "from flatlib.geopos import GeoPos\n",
        "from flatlib import const\n",
        "from serpapi import GoogleSearch\n",
        "from transformers import pipeline\n",
        "\n",
        "# Streamlit setup\n",
        "st.set_page_config(page_title=\"SoulScope AI\", page_icon=\"🔮\")\n",
        "st.title(\"🔮 SoulScope – Real-Time Horoscope Summarizer\")\n",
        "\n",
        "import datetime\n",
        "from transformers import pipeline\n",
        "\n",
        "def clean_sentence_end(text):\n",
        "    \"\"\"Ensure the summary ends with a complete sentence.\"\"\"\n",
        "    # Find the last sentence-ending punctuation\n",
        "    for p in [\".\", \"!\", \"?\"]:\n",
        "        if p in text:\n",
        "            text = text[:text.rfind(p)+1]  # cut after the last punctuation\n",
        "            break\n",
        "    return text.strip()\n",
        "\n",
        "def summarize_snippets(snippets):\n",
        "    if not snippets:\n",
        "        return \"⚠️ No relevant horoscope info found online.\"\n",
        "\n",
        "    # ✅ Filter out irrelevant SEO/Navigation junk\n",
        "    filtered_snippets = [\n",
        "        s for s in snippets\n",
        "        if not any(x in s.lower() for x in [\"hub\", \"page\", \"click\", \"navigation\", \"free astrology\", \"explore\"])\n",
        "    ]\n",
        "\n",
        "    if not filtered_snippets:\n",
        "        return \"⚠️ No useful horoscope data found.\"\n",
        "\n",
        "    # ✅ Combine & truncate safely\n",
        "    text = \" \".join(filtered_snippets)\n",
        "    if len(text) > 1800:\n",
        "        text = text[:1800]\n",
        "\n",
        "    # ✅ Add mystical astrologer persona prompt\n",
        "    mystical_prompt = f\"\"\"\n",
        "You are a mystical astrologer. From the following raw horoscope info, craft a beautiful,\n",
        "poetic, and inspiring horoscope message. Do NOT mention websites or technical text.\n",
        "\n",
        "{text}\n",
        "\"\"\"\n",
        "\n",
        "    # ✅ Summarize safely\n",
        "    try:\n",
        "        summary = summarizer(\n",
        "            mystical_prompt,\n",
        "            max_length=220,   # allow slightly more words\n",
        "            min_length=80,    # ensures it's not too short\n",
        "            do_sample=False\n",
        "        )[0]['summary_text']\n",
        "    except Exception as e:\n",
        "        return f\"⚠️ Could not summarize: {e}\"\n",
        "\n",
        "    # ✅ Post-process junk removal\n",
        "    bad_keywords = [\"hub page\", \"click\", \"website\", \"monthly hub\", \"astrology page\"]\n",
        "    if any(k in summary.lower() for k in bad_keywords):\n",
        "        summary = \"✨ The cosmic energies invite you to embrace change, find balance, and trust the unfolding journey. 🌙\"\n",
        "    else:\n",
        "        # ✅ Ensure the summary ends with a complete sentence\n",
        "        summary = clean_sentence_end(summary)\n",
        "\n",
        "    return summary\n",
        "\n",
        "\n",
        "# User inputs\n",
        "name = st.text_input(\"Your Name\")\n",
        "birth_date = st.date_input(\n",
        "    \"Birth Date\",\n",
        "    min_value=datetime.date(1800, 1, 1),\n",
        "    value=datetime.date(2000, 1, 1))\n",
        "birth_time = st.time_input(\"Birth Time (24hr)\")\n",
        "location_input = st.text_input(\"Birth City\", \"Hyderabad\")\n",
        "mode = st.radio(\"Choose Horoscope Type\", [\"Daily\", \"Weekly\", \"Monthly\"])\n",
        "\n",
        "st.markdown(\"Fill in your birth details to get a unique horoscope created from real-time web insights 🌐\")\n",
        "\n",
        "# Hugging Face summarizer\n",
        "summarizer = pipeline(\"summarization\", model=\"facebook/bart-large-cnn\")\n",
        "\n",
        "SERPAPI_KEY = \"5d6ee01b24626f8a1960777e8c160a975be6b62d1016b199156e529dc2e9bdf7\"\n",
        "\n",
        "# Fetch snippets via SerpAPI\n",
        "def fetch_astrology_snippets(query):\n",
        "    params = {\n",
        "        \"engine\": \"google\",\n",
        "        \"q\": query,\n",
        "        \"api_key\": SERPAPI_KEY,\n",
        "        \"num\": 5\n",
        "    }\n",
        "    search = GoogleSearch(params)\n",
        "    results = search.get_dict()\n",
        "    snippets = []\n",
        "    if \"organic_results\" in results:\n",
        "        for r in results[\"organic_results\"]:\n",
        "            if \"snippet\" in r:\n",
        "                snippets.append(r[\"snippet\"])\n",
        "    return snippets\n",
        "\n",
        "# Generate horoscope\n",
        "def generate_real_time_horoscope(sun_sign, mode):\n",
        "    query = f\"{mode} horoscope for {sun_sign} zodiac sign astrology\"\n",
        "    snippets = fetch_astrology_snippets(query)\n",
        "    return summarize_snippets(snippets)\n",
        "\n",
        "if st.button(\"🔭 Reveal Horoscope\"):\n",
        "    if not name:\n",
        "        st.warning(\"⚠️ Please enter your name.\")\n",
        "    else:\n",
        "        try:\n",
        "            date_str = birth_date.strftime('%Y/%m/%d')\n",
        "            time_str = birth_time.strftime('%H:%M')\n",
        "\n",
        "            # Default to Hyderabad\n",
        "            if \"hyderabad\" in location_input.lower():\n",
        "                geo = GeoPos('+17:23', '+78:29')\n",
        "            else:\n",
        "                geo = GeoPos('0', '0')\n",
        "\n",
        "            chart = Chart(Datetime(date_str, time_str, '+05:30'), geo)\n",
        "            sun_sign = chart.get(const.SUN).sign\n",
        "            st.markdown(f\"### ✨ Real-Time {mode} Horoscope for {name} ({sun_sign})\")\n",
        "\n",
        "            horoscope = generate_real_time_horoscope(sun_sign, mode)\n",
        "            st.write(horoscope)\n",
        "\n",
        "        except Exception as e:\n",
        "            st.error(f\"Error: {e}\")\n",
        "'''\n",
        "\n",
        "with open(\"soulscope_app.py\", \"w\") as f:\n",
        "    f.write(app_code)\n",
        "\n",
        "# Launch ngrok + streamlit\n",
        "from pyngrok import ngrok\n",
        "import os\n",
        "!ngrok config add-authtoken 2zbavHJjAIgI72TZRxjx4iUr22m_yectMkrmuqDLntNyUiAu\n",
        "\n",
        "ngrok.kill()\n",
        "public_url = ngrok.connect(8501)\n",
        "os.system(\"streamlit run soulscope_app.py &\")\n",
        "print(\"🌐 Your SoulScope is live at:\", public_url)\n"
      ],
      "metadata": {
        "colab": {
          "base_uri": "https://localhost:8080/"
        },
        "id": "Ek5mDfQ-cpqQ",
        "outputId": "eefb73ed-2182-4ad9-e64f-35c4b61413bb"
      },
      "execution_count": null,
      "outputs": [
        {
          "output_type": "stream",
          "name": "stdout",
          "text": [
            "Requirement already satisfied: streamlit in /usr/local/lib/python3.11/dist-packages (1.46.1)\n",
            "Requirement already satisfied: flatlib in /usr/local/lib/python3.11/dist-packages (0.2.3)\n",
            "Requirement already satisfied: transformers in /usr/local/lib/python3.11/dist-packages (4.53.1)\n",
            "Requirement already satisfied: pyngrok in /usr/local/lib/python3.11/dist-packages (7.2.12)\n",
            "Requirement already satisfied: altair<6,>=4.0 in /usr/local/lib/python3.11/dist-packages (from streamlit) (5.5.0)\n",
            "Requirement already satisfied: blinker<2,>=1.5.0 in /usr/local/lib/python3.11/dist-packages (from streamlit) (1.9.0)\n",
            "Requirement already satisfied: cachetools<7,>=4.0 in /usr/local/lib/python3.11/dist-packages (from streamlit) (5.5.2)\n",
            "Requirement already satisfied: click<9,>=7.0 in /usr/local/lib/python3.11/dist-packages (from streamlit) (8.2.1)\n",
            "Requirement already satisfied: numpy<3,>=1.23 in /usr/local/lib/python3.11/dist-packages (from streamlit) (2.0.2)\n",
            "Requirement already satisfied: packaging<26,>=20 in /usr/local/lib/python3.11/dist-packages (from streamlit) (24.2)\n",
            "Requirement already satisfied: pandas<3,>=1.4.0 in /usr/local/lib/python3.11/dist-packages (from streamlit) (2.2.2)\n",
            "Requirement already satisfied: pillow<12,>=7.1.0 in /usr/local/lib/python3.11/dist-packages (from streamlit) (11.2.1)\n",
            "Requirement already satisfied: protobuf<7,>=3.20 in /usr/local/lib/python3.11/dist-packages (from streamlit) (5.29.5)\n",
            "Requirement already satisfied: pyarrow>=7.0 in /usr/local/lib/python3.11/dist-packages (from streamlit) (18.1.0)\n",
            "Requirement already satisfied: requests<3,>=2.27 in /usr/local/lib/python3.11/dist-packages (from streamlit) (2.32.3)\n",
            "Requirement already satisfied: tenacity<10,>=8.1.0 in /usr/local/lib/python3.11/dist-packages (from streamlit) (8.5.0)\n",
            "Requirement already satisfied: toml<2,>=0.10.1 in /usr/local/lib/python3.11/dist-packages (from streamlit) (0.10.2)\n",
            "Requirement already satisfied: typing-extensions<5,>=4.4.0 in /usr/local/lib/python3.11/dist-packages (from streamlit) (4.14.1)\n",
            "Requirement already satisfied: watchdog<7,>=2.1.5 in /usr/local/lib/python3.11/dist-packages (from streamlit) (6.0.0)\n",
            "Requirement already satisfied: gitpython!=3.1.19,<4,>=3.0.7 in /usr/local/lib/python3.11/dist-packages (from streamlit) (3.1.44)\n",
            "Requirement already satisfied: pydeck<1,>=0.8.0b4 in /usr/local/lib/python3.11/dist-packages (from streamlit) (0.9.1)\n",
            "Requirement already satisfied: tornado!=6.5.0,<7,>=6.0.3 in /usr/local/lib/python3.11/dist-packages (from streamlit) (6.4.2)\n",
            "Requirement already satisfied: pyswisseph==2.08.00-1 in /usr/local/lib/python3.11/dist-packages (from flatlib) (2.8.0.post1)\n",
            "Requirement already satisfied: filelock in /usr/local/lib/python3.11/dist-packages (from transformers) (3.18.0)\n",
            "Requirement already satisfied: huggingface-hub<1.0,>=0.30.0 in /usr/local/lib/python3.11/dist-packages (from transformers) (0.33.2)\n",
            "Requirement already satisfied: pyyaml>=5.1 in /usr/local/lib/python3.11/dist-packages (from transformers) (6.0.2)\n",
            "Requirement already satisfied: regex!=2019.12.17 in /usr/local/lib/python3.11/dist-packages (from transformers) (2024.11.6)\n",
            "Requirement already satisfied: tokenizers<0.22,>=0.21 in /usr/local/lib/python3.11/dist-packages (from transformers) (0.21.2)\n",
            "Requirement already satisfied: safetensors>=0.4.3 in /usr/local/lib/python3.11/dist-packages (from transformers) (0.5.3)\n",
            "Requirement already satisfied: tqdm>=4.27 in /usr/local/lib/python3.11/dist-packages (from transformers) (4.67.1)\n",
            "Requirement already satisfied: jinja2 in /usr/local/lib/python3.11/dist-packages (from altair<6,>=4.0->streamlit) (3.1.6)\n",
            "Requirement already satisfied: jsonschema>=3.0 in /usr/local/lib/python3.11/dist-packages (from altair<6,>=4.0->streamlit) (4.24.0)\n",
            "Requirement already satisfied: narwhals>=1.14.2 in /usr/local/lib/python3.11/dist-packages (from altair<6,>=4.0->streamlit) (1.46.0)\n",
            "Requirement already satisfied: gitdb<5,>=4.0.1 in /usr/local/lib/python3.11/dist-packages (from gitpython!=3.1.19,<4,>=3.0.7->streamlit) (4.0.12)\n",
            "Requirement already satisfied: fsspec>=2023.5.0 in /usr/local/lib/python3.11/dist-packages (from huggingface-hub<1.0,>=0.30.0->transformers) (2025.3.2)\n",
            "Requirement already satisfied: hf-xet<2.0.0,>=1.1.2 in /usr/local/lib/python3.11/dist-packages (from huggingface-hub<1.0,>=0.30.0->transformers) (1.1.5)\n",
            "Requirement already satisfied: python-dateutil>=2.8.2 in /usr/local/lib/python3.11/dist-packages (from pandas<3,>=1.4.0->streamlit) (2.9.0.post0)\n",
            "Requirement already satisfied: pytz>=2020.1 in /usr/local/lib/python3.11/dist-packages (from pandas<3,>=1.4.0->streamlit) (2025.2)\n",
            "Requirement already satisfied: tzdata>=2022.7 in /usr/local/lib/python3.11/dist-packages (from pandas<3,>=1.4.0->streamlit) (2025.2)\n",
            "Requirement already satisfied: charset-normalizer<4,>=2 in /usr/local/lib/python3.11/dist-packages (from requests<3,>=2.27->streamlit) (3.4.2)\n",
            "Requirement already satisfied: idna<4,>=2.5 in /usr/local/lib/python3.11/dist-packages (from requests<3,>=2.27->streamlit) (3.10)\n",
            "Requirement already satisfied: urllib3<3,>=1.21.1 in /usr/local/lib/python3.11/dist-packages (from requests<3,>=2.27->streamlit) (2.4.0)\n",
            "Requirement already satisfied: certifi>=2017.4.17 in /usr/local/lib/python3.11/dist-packages (from requests<3,>=2.27->streamlit) (2025.7.9)\n",
            "Requirement already satisfied: smmap<6,>=3.0.1 in /usr/local/lib/python3.11/dist-packages (from gitdb<5,>=4.0.1->gitpython!=3.1.19,<4,>=3.0.7->streamlit) (5.0.2)\n",
            "Requirement already satisfied: MarkupSafe>=2.0 in /usr/local/lib/python3.11/dist-packages (from jinja2->altair<6,>=4.0->streamlit) (3.0.2)\n",
            "Requirement already satisfied: attrs>=22.2.0 in /usr/local/lib/python3.11/dist-packages (from jsonschema>=3.0->altair<6,>=4.0->streamlit) (25.3.0)\n",
            "Requirement already satisfied: jsonschema-specifications>=2023.03.6 in /usr/local/lib/python3.11/dist-packages (from jsonschema>=3.0->altair<6,>=4.0->streamlit) (2025.4.1)\n",
            "Requirement already satisfied: referencing>=0.28.4 in /usr/local/lib/python3.11/dist-packages (from jsonschema>=3.0->altair<6,>=4.0->streamlit) (0.36.2)\n",
            "Requirement already satisfied: rpds-py>=0.7.1 in /usr/local/lib/python3.11/dist-packages (from jsonschema>=3.0->altair<6,>=4.0->streamlit) (0.26.0)\n",
            "Requirement already satisfied: six>=1.5 in /usr/local/lib/python3.11/dist-packages (from python-dateutil>=2.8.2->pandas<3,>=1.4.0->streamlit) (1.17.0)\n",
            "Authtoken saved to configuration file: /root/.config/ngrok/ngrok.yml\n",
            "🌐 Your SoulScope is live at: NgrokTunnel: \"https://deba58e13da9.ngrok-free.app\" -> \"http://localhost:8501\"\n"
          ]
        }
      ]
    },
    {
      "cell_type": "code",
      "source": [
        "!pkill -f ngrok\n",
        "!pkill -f streamlit\n"
      ],
      "metadata": {
        "id": "nY_q5oifgkSm"
      },
      "execution_count": null,
      "outputs": []
    }
  ]
}